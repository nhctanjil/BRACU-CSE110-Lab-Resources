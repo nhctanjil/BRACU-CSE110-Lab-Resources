{
  "nbformat": 4,
  "nbformat_minor": 0,
  "metadata": {
    "colab": {
      "provenance": [],
      "authorship_tag": "ABX9TyOnL29Wi20wxRqLSzHpAJ9L",
      "include_colab_link": true
    },
    "kernelspec": {
      "name": "python3",
      "display_name": "Python 3"
    },
    "language_info": {
      "name": "python"
    }
  },
  "cells": [
    {
      "cell_type": "markdown",
      "metadata": {
        "id": "view-in-github",
        "colab_type": "text"
      },
      "source": [
        "<a href=\"https://colab.research.google.com/github/nhctanjil/BRACU-CSE110-Lab-Resources/blob/main/CSE110_assignment_1.ipynb\" target=\"_parent\"><img src=\"https://colab.research.google.com/assets/colab-badge.svg\" alt=\"Open In Colab\"/></a>"
      ]
    },
    {
      "cell_type": "code",
      "execution_count": null,
      "metadata": {
        "colab": {
          "base_uri": "https://localhost:8080/"
        },
        "id": "1i7OwjlCnAhn",
        "outputId": "76688631-8987-4b8f-eea4-1654e4a70d91"
      },
      "outputs": [
        {
          "output_type": "stream",
          "name": "stdout",
          "text": [
            "Enter the first number: 14\n",
            "Enter the second number: 5\n",
            "Sum: 9\n"
          ]
        }
      ],
      "source": [
        "#task4\n",
        "num_1=int(input(\"Enter the first number: \"))\n",
        "num_2=int(input(\"Enter the second number: \"))\n",
        "if ( num_1 > num_2):\n",
        "  sum1 = num_1-num_2\n",
        "  print(\"Sum:\" , sum1);\n",
        "elif (num_2 > num_1):\n",
        "  sum2 = num_2-num_1\n",
        "  print(\"Sum:\", sum2)"
      ]
    },
    {
      "cell_type": "code",
      "source": [
        "#task8\n",
        "num=int(input(\"Enter an integer: \"))\n",
        "if (num%2==0 and num%5==0):\n",
        "  print(\"Multiple of both 2 and 5\")\n",
        "else:\n",
        "  print(\"Not a multiple of 2 and 5 both\")\n",
        ""
      ],
      "metadata": {
        "colab": {
          "base_uri": "https://localhost:8080/"
        },
        "id": "JPMm56Jovo6Y",
        "outputId": "242a1f37-951f-402f-d844-b47b60fc06c4"
      },
      "execution_count": null,
      "outputs": [
        {
          "output_type": "stream",
          "name": "stdout",
          "text": [
            "Enter an integer: 40\n",
            "Multiple of both 2 and 5\n"
          ]
        }
      ]
    },
    {
      "cell_type": "code",
      "source": [
        "#task9\n",
        "time=int(input(\"Enter your time: \"))\n",
        "num_1= time//3600\n",
        "num_2= time%3600\n",
        "num_3= num_2//60\n",
        "num_4= num_2%60\n",
        "print(\"Hours\", num_1,\"Minutes\", num_3 , \"Seconds\",num_4)\n"
      ],
      "metadata": {
        "colab": {
          "base_uri": "https://localhost:8080/"
        },
        "id": "H3YVxX21yrkx",
        "outputId": "1edd5d13-fa4b-4e35-d18a-d286562999c9"
      },
      "execution_count": null,
      "outputs": [
        {
          "output_type": "stream",
          "name": "stdout",
          "text": [
            "Enter your time: 10000\n",
            "Hours 2 Minutes 46 Seconds 40\n"
          ]
        }
      ]
    },
    {
      "cell_type": "code",
      "source": [
        "#task10\n",
        "hour=int(input(\"Enter hour : \"))\n",
        "if(hour>=40 and hour<=168):\n",
        "  if(hour<=40):\n",
        "    salary=40*200\n",
        "    print(\"\" ,salary);\n",
        "  elif(\"hour>=40\"):\n",
        "    salary=8000+40*200+300*(hour-40)\n",
        "    print(\"\",salary)\n",
        "else:\n",
        "  print(\"Invalid input\")"
      ],
      "metadata": {
        "colab": {
          "base_uri": "https://localhost:8080/"
        },
        "id": "CuPQNvKM-t4k",
        "outputId": "431696ed-ef45-41e9-8d8c-be03dcdd1b3e"
      },
      "execution_count": null,
      "outputs": [
        {
          "output_type": "stream",
          "name": "stdout",
          "text": [
            "Enter hour : 50\n",
            " 19000\n"
          ]
        }
      ]
    },
    {
      "cell_type": "code",
      "source": [
        "#task11\n",
        "import math\n",
        "s=float(input(\"Enter value for S:\"))\n",
        "if(s<100):\n",
        "  L=3000-125*math.pow(s,2)\n",
        "  print(\"\",L)\n",
        "elif(s>=100):\n",
        "  L=12000/(4+(math.pow(s,2)/14900))\n",
        "  print(\"\" ,L)\n",
        "\n",
        "\n"
      ],
      "metadata": {
        "colab": {
          "base_uri": "https://localhost:8080/"
        },
        "id": "Hqmu7n5XA2-U",
        "outputId": "3bb98e5c-97b3-4e03-9a48-39dd9d68e7ef"
      },
      "execution_count": null,
      "outputs": [
        {
          "output_type": "stream",
          "name": "stdout",
          "text": [
            "Enter value for S:100\n",
            " 2568.965517241379\n"
          ]
        }
      ]
    },
    {
      "cell_type": "code",
      "source": [
        "#task12\n",
        "time=int(input(\"Enter your time: \"))\n",
        "if(time>=0 and time<=23):\n",
        "  if(time>=4 and time<=6):\n",
        "    print(\"Breakfast\")\n",
        "  elif(time>=12 and time<=13):\n",
        "    print(\"Lunch\")\n",
        "\n",
        "  elif(time>=16 and time<=17):\n",
        "    print(\"Snacks\")\n",
        "  elif(time>=19 and time<=20):\n",
        "    print(\"Dinner\")\n",
        "\n",
        "  else:\n",
        "    print(\"Patience is a virtue\")\n",
        "\n",
        "else:\n",
        "  print(\"Wrong time\")\n",
        ""
      ],
      "metadata": {
        "colab": {
          "base_uri": "https://localhost:8080/"
        },
        "id": "D4M3bque9MTu",
        "outputId": "a8e4c08c-4431-4d84-a6cc-c16e4114fcaa"
      },
      "execution_count": null,
      "outputs": [
        {
          "output_type": "stream",
          "name": "stdout",
          "text": [
            "Enter your time: 23\n",
            "Patience is a virtue\n"
          ]
        }
      ]
    },
    {
      "cell_type": "code",
      "source": [
        "#task15\n",
        "credit= int(input(\"Number of credits attempted: \"))\n",
        "cgpa= float(input(\"Enter your cgpa: \"))\n",
        "if(credit>=30):\n",
        "  if(cgpa>=3.80 and cgpa<=3.89):\n",
        "    print(\"25 percent\")\n",
        "  elif(cgpa>=3.90 and cgpa<=3.94):\n",
        "    print(\"50 percent\")\n",
        "  elif(cgpa>=3.95 and cgpa<=3.99):\n",
        "    print(\"75 percent\")\n",
        "  elif(cgpa==4):\n",
        "    print(\"100 percent\")\n",
        "else:\n",
        "  print(\"The student is not eligible for a waiver\")\n"
      ],
      "metadata": {
        "colab": {
          "base_uri": "https://localhost:8080/"
        },
        "id": "zZVY6G4bAN63",
        "outputId": "53c32cee-9406-4797-f53b-e1ddf3fb7583"
      },
      "execution_count": null,
      "outputs": [
        {
          "output_type": "stream",
          "name": "stdout",
          "text": [
            "Number of credits attempted: 40\n",
            "Enter your cgpa: 3.90\n",
            "50 percent\n"
          ]
        }
      ]
    },
    {
      "cell_type": "code",
      "source": [
        "#series\n",
        "n=int(input())\n",
        "x=''\n",
        "sum=0\n",
        "for i in range (1,n+1):\n",
        "    if i == n:\n",
        "        x+=\"1\"*i\n",
        "    else:\n",
        "        x+=\"1\"*i + \"+\"\n",
        "print(\"The series looks like:\",x)\n",
        "l=x.split(\"+\")\n",
        "for i in l:\n",
        "    sum+=int (i)\n",
        "print(\"Sum of the series is\",sum)"
      ],
      "metadata": {
        "colab": {
          "base_uri": "https://localhost:8080/"
        },
        "id": "O7uJofTfrdCv",
        "outputId": "0a1e9f13-2cdc-4d65-fac3-54d0e802b1b4"
      },
      "execution_count": null,
      "outputs": [
        {
          "output_type": "stream",
          "name": "stdout",
          "text": [
            "5\n",
            "The series looks like: 1+11+111+1111+11111\n",
            "Sum of the series is 12345\n"
          ]
        }
      ]
    }
  ]
}